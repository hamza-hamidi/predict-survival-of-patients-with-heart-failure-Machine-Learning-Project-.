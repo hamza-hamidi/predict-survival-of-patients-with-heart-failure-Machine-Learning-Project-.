{
  "nbformat": 4,
  "nbformat_minor": 0,
  "metadata": {
    "colab": {
      "provenance": [],
      "mount_file_id": "16NeDmxuCos4WNIpWhtt2LDJNZJRh0WPz",
      "authorship_tag": "ABX9TyNVilOI/fHXrMtfDTVOX4gk",
      "include_colab_link": true
    },
    "kernelspec": {
      "name": "python3",
      "display_name": "Python 3"
    },
    "language_info": {
      "name": "python"
    }
  },
  "cells": [
    {
      "cell_type": "markdown",
      "metadata": {
        "id": "view-in-github",
        "colab_type": "text"
      },
      "source": [
        "<a href=\"https://colab.research.google.com/github/hamza-hamidi/predict-survival-of-patients-with-heart-failure-Machine-Learning-Project-./blob/main/predict_survival_of_patients_with_heart_failure_(Machine_Learning_Project).ipynb\" target=\"_parent\"><img src=\"https://colab.research.google.com/assets/colab-badge.svg\" alt=\"Open In Colab\"/></a>"
      ]
    },
    {
      "cell_type": "markdown",
      "source": [
        "## Classification Project\n",
        "\n",
        "In this project, I will use a dataset from Kaggle to predict the survival of patients with heart failure from serum creatinine and ejection fraction, and other factors such as age, anemia, diabetes, and so on.\n",
        "\n"
      ],
      "metadata": {
        "id": "wcDYS9KuM1Ab"
      }
    },
    {
      "cell_type": "code",
      "execution_count": 36,
      "metadata": {
        "id": "L4qjGSEkMiqC"
      },
      "outputs": [],
      "source": [
        "import pandas as pd\n",
        "from sklearn.preprocessing import StandardScaler, LabelEncoder\n",
        "from sklearn.model_selection import train_test_split\n",
        "from collections import Counter\n",
        "from sklearn.compose import ColumnTransformer\n",
        "from tensorflow.keras.models import Sequential\n",
        "from tensorflow.keras.layers import Dense, InputLayer\n",
        "from sklearn.metrics import classification_report\n",
        "from sklearn.preprocessing import Normalizer\n",
        "from tensorflow.keras.utils import to_categorical\n",
        "import numpy as np\n"
      ]
    },
    {
      "cell_type": "code",
      "source": [
        "#connecting drive\n",
        "from google.colab import drive\n",
        "drive.mount('/content/drive')\n"
      ],
      "metadata": {
        "colab": {
          "base_uri": "https://localhost:8080/"
        },
        "id": "XcqY0DxbNfWO",
        "outputId": "e584686b-3eaa-450b-ee27-5deaab9eeb77"
      },
      "execution_count": 37,
      "outputs": [
        {
          "output_type": "stream",
          "name": "stdout",
          "text": [
            "Drive already mounted at /content/drive; to attempt to forcibly remount, call drive.mount(\"/content/drive\", force_remount=True).\n"
          ]
        }
      ]
    },
    {
      "cell_type": "code",
      "source": [
        "#loading data\n",
        "file_path = \"/content/drive/MyDrive/ML project portfolio/heart failure classifier ML/heart_failure_clinical_records_dataset.csv\"\n",
        "\n",
        "my_dataFile= pd.read_csv(file_path)\n"
      ],
      "metadata": {
        "id": "zw8869E9RJKp"
      },
      "execution_count": 38,
      "outputs": []
    },
    {
      "cell_type": "code",
      "source": [
        "#All columns and data types\n",
        "print(my_dataFile.info())"
      ],
      "metadata": {
        "colab": {
          "base_uri": "https://localhost:8080/"
        },
        "id": "lhAUIotQTAwI",
        "outputId": "4688a50c-14b5-4ebe-a456-e7b2094fc8e7"
      },
      "execution_count": 39,
      "outputs": [
        {
          "output_type": "stream",
          "name": "stdout",
          "text": [
            "<class 'pandas.core.frame.DataFrame'>\n",
            "RangeIndex: 299 entries, 0 to 298\n",
            "Data columns (total 13 columns):\n",
            " #   Column                    Non-Null Count  Dtype  \n",
            "---  ------                    --------------  -----  \n",
            " 0   age                       299 non-null    float64\n",
            " 1   anaemia                   299 non-null    int64  \n",
            " 2   creatinine_phosphokinase  299 non-null    int64  \n",
            " 3   diabetes                  299 non-null    int64  \n",
            " 4   ejection_fraction         299 non-null    int64  \n",
            " 5   high_blood_pressure       299 non-null    int64  \n",
            " 6   platelets                 299 non-null    float64\n",
            " 7   serum_creatinine          299 non-null    float64\n",
            " 8   serum_sodium              299 non-null    int64  \n",
            " 9   sex                       299 non-null    int64  \n",
            " 10  smoking                   299 non-null    int64  \n",
            " 11  time                      299 non-null    int64  \n",
            " 12  DEATH_EVENT               299 non-null    int64  \n",
            "dtypes: float64(3), int64(10)\n",
            "memory usage: 30.5 KB\n",
            "None\n"
          ]
        }
      ]
    },
    {
      "cell_type": "code",
      "source": [
        "#distribution of the death_event\n",
        "print(\"Classes and number values in the dataset\", Counter(my_dataFile['DEATH_EVENT']))"
      ],
      "metadata": {
        "colab": {
          "base_uri": "https://localhost:8080/"
        },
        "id": "OFwI7dIAThnI",
        "outputId": "64ea5aa3-6eab-45c1-dd05-b0eab3a58026"
      },
      "execution_count": 40,
      "outputs": [
        {
          "output_type": "stream",
          "name": "stdout",
          "text": [
            "Classes and number values in the dataset Counter({0: 203, 1: 96})\n"
          ]
        }
      ]
    },
    {
      "cell_type": "code",
      "source": [
        "y=my_dataFile['DEATH_EVENT']\n",
        "#Extracting features columns\n",
        "x=my_dataFile[['age','anaemia','creatinine_phosphokinase','diabetes','ejection_fraction','high_blood_pressure','platelets','serum_creatinine','serum_sodium','sex','smoking','time']]\n"
      ],
      "metadata": {
        "id": "HNWwpKN-VGjP"
      },
      "execution_count": 41,
      "outputs": []
    },
    {
      "cell_type": "code",
      "source": [
        "#Using pandas.get_dummies() to convert the categorical features in x to one-hot encoding vectors\n",
        "x=pd.get_dummies(x)"
      ],
      "metadata": {
        "id": "JNAldjVPV9qx"
      },
      "execution_count": 42,
      "outputs": []
    },
    {
      "cell_type": "code",
      "source": [
        "#making training and test features using sklearn\n",
        "x_train, x_test,y_train,y_test= train_test_split(x,y,test_size=0.3,random_state=0)"
      ],
      "metadata": {
        "id": "qe4_1J77XaWz"
      },
      "execution_count": 43,
      "outputs": []
    },
    {
      "cell_type": "code",
      "source": [
        "#Columns transfer\n",
        "ct= ColumnTransformer([(\"numeric\",Normalizer(),['age','creatinine_phosphokinase','ejection_fraction','platelets','serum_creatinine','serum_sodium','time'])])"
      ],
      "metadata": {
        "id": "RqQ4I_MIXaNd"
      },
      "execution_count": 44,
      "outputs": []
    },
    {
      "cell_type": "code",
      "source": [
        "x_train=ct.fit_transform(x_train)\n",
        "x_test=ct.transform(x_test)"
      ],
      "metadata": {
        "id": "X522wiVVZjZh"
      },
      "execution_count": 45,
      "outputs": []
    },
    {
      "cell_type": "markdown",
      "source": [
        "###labels for classification\n",
        "\n",
        "\n"
      ],
      "metadata": {
        "id": "kx4b5jkxZ6n_"
      }
    },
    {
      "cell_type": "code",
      "source": [
        "le=LabelEncoder()\n",
        "\n",
        "y_train=le.fit_transform(y_train.astype(str))\n",
        "\n",
        "y_test=le.fit_transform(y_test.astype(str))\n",
        "\n",
        "y_train=to_categorical(y_train)\n",
        "y_test=to_categorical(y_test)\n"
      ],
      "metadata": {
        "id": "OTkWZeoacH2B"
      },
      "execution_count": 46,
      "outputs": []
    },
    {
      "cell_type": "markdown",
      "source": [
        "###model design"
      ],
      "metadata": {
        "id": "4vn1K8GPcWPs"
      }
    },
    {
      "cell_type": "code",
      "source": [
        " md=Sequential()\n",
        "\n",
        " md.add(InputLayer(input_shape=x_train.shape[1]))\n",
        "\n",
        " md.add(Dense(12,activation='relu'))\n",
        "\n",
        " md.add(Dense(2,activation='softmax'))\n",
        "\n",
        " md.compile(loss='categorical_crossentropy',optimizer='adam',metrics=['accuracy'])"
      ],
      "metadata": {
        "id": "xG4tEr0uccIj"
      },
      "execution_count": 52,
      "outputs": []
    },
    {
      "cell_type": "markdown",
      "source": [
        "### Training and eval\n"
      ],
      "metadata": {
        "id": "96hF-2p3eGEw"
      }
    },
    {
      "cell_type": "code",
      "source": [
        "md.fit(x_train,y_train,epochs=100,batch_size=16,verbose=1)"
      ],
      "metadata": {
        "colab": {
          "base_uri": "https://localhost:8080/"
        },
        "id": "j9POU7fyeIxH",
        "outputId": "1fd4dbaa-b2ba-4911-e69f-1730a7daf37f"
      },
      "execution_count": 54,
      "outputs": [
        {
          "output_type": "stream",
          "name": "stdout",
          "text": [
            "Epoch 1/100\n",
            "14/14 [==============================] - 0s 6ms/step - loss: 0.6307 - accuracy: 0.6746\n",
            "Epoch 2/100\n",
            "14/14 [==============================] - 0s 5ms/step - loss: 0.6305 - accuracy: 0.6746\n",
            "Epoch 3/100\n",
            "14/14 [==============================] - 0s 5ms/step - loss: 0.6305 - accuracy: 0.6746\n",
            "Epoch 4/100\n",
            "14/14 [==============================] - 0s 6ms/step - loss: 0.6305 - accuracy: 0.6746\n",
            "Epoch 5/100\n",
            "14/14 [==============================] - 0s 9ms/step - loss: 0.6305 - accuracy: 0.6746\n",
            "Epoch 6/100\n",
            "14/14 [==============================] - 0s 7ms/step - loss: 0.6304 - accuracy: 0.6746\n",
            "Epoch 7/100\n",
            "14/14 [==============================] - 0s 5ms/step - loss: 0.6305 - accuracy: 0.6746\n",
            "Epoch 8/100\n",
            "14/14 [==============================] - 0s 6ms/step - loss: 0.6305 - accuracy: 0.6746\n",
            "Epoch 9/100\n",
            "14/14 [==============================] - 0s 3ms/step - loss: 0.6305 - accuracy: 0.6746\n",
            "Epoch 10/100\n",
            "14/14 [==============================] - 0s 3ms/step - loss: 0.6305 - accuracy: 0.6746\n",
            "Epoch 11/100\n",
            "14/14 [==============================] - 0s 5ms/step - loss: 0.6306 - accuracy: 0.6746\n",
            "Epoch 12/100\n",
            "14/14 [==============================] - 0s 3ms/step - loss: 0.6307 - accuracy: 0.6746\n",
            "Epoch 13/100\n",
            "14/14 [==============================] - 0s 8ms/step - loss: 0.6304 - accuracy: 0.6746\n",
            "Epoch 14/100\n",
            "14/14 [==============================] - 0s 3ms/step - loss: 0.6304 - accuracy: 0.6746\n",
            "Epoch 15/100\n",
            "14/14 [==============================] - 0s 3ms/step - loss: 0.6306 - accuracy: 0.6746\n",
            "Epoch 16/100\n",
            "14/14 [==============================] - 0s 5ms/step - loss: 0.6306 - accuracy: 0.6746\n",
            "Epoch 17/100\n",
            "14/14 [==============================] - 0s 3ms/step - loss: 0.6306 - accuracy: 0.6746\n",
            "Epoch 18/100\n",
            "14/14 [==============================] - 0s 4ms/step - loss: 0.6307 - accuracy: 0.6746\n",
            "Epoch 19/100\n",
            "14/14 [==============================] - 0s 7ms/step - loss: 0.6306 - accuracy: 0.6746\n",
            "Epoch 20/100\n",
            "14/14 [==============================] - 0s 6ms/step - loss: 0.6306 - accuracy: 0.6746\n",
            "Epoch 21/100\n",
            "14/14 [==============================] - 0s 7ms/step - loss: 0.6304 - accuracy: 0.6746\n",
            "Epoch 22/100\n",
            "14/14 [==============================] - 0s 3ms/step - loss: 0.6305 - accuracy: 0.6746\n",
            "Epoch 23/100\n",
            "14/14 [==============================] - 0s 6ms/step - loss: 0.6305 - accuracy: 0.6746\n",
            "Epoch 24/100\n",
            "14/14 [==============================] - 0s 6ms/step - loss: 0.6307 - accuracy: 0.6746\n",
            "Epoch 25/100\n",
            "14/14 [==============================] - 0s 4ms/step - loss: 0.6306 - accuracy: 0.6746\n",
            "Epoch 26/100\n",
            "14/14 [==============================] - 0s 3ms/step - loss: 0.6305 - accuracy: 0.6746\n",
            "Epoch 27/100\n",
            "14/14 [==============================] - 0s 3ms/step - loss: 0.6305 - accuracy: 0.6746\n",
            "Epoch 28/100\n",
            "14/14 [==============================] - 0s 5ms/step - loss: 0.6305 - accuracy: 0.6746\n",
            "Epoch 29/100\n",
            "14/14 [==============================] - 0s 3ms/step - loss: 0.6306 - accuracy: 0.6746\n",
            "Epoch 30/100\n",
            "14/14 [==============================] - 0s 3ms/step - loss: 0.6305 - accuracy: 0.6746\n",
            "Epoch 31/100\n",
            "14/14 [==============================] - 0s 3ms/step - loss: 0.6304 - accuracy: 0.6746\n",
            "Epoch 32/100\n",
            "14/14 [==============================] - 0s 9ms/step - loss: 0.6307 - accuracy: 0.6746\n",
            "Epoch 33/100\n",
            "14/14 [==============================] - 0s 4ms/step - loss: 0.6304 - accuracy: 0.6746\n",
            "Epoch 34/100\n",
            "14/14 [==============================] - 0s 4ms/step - loss: 0.6304 - accuracy: 0.6746\n",
            "Epoch 35/100\n",
            "14/14 [==============================] - 0s 6ms/step - loss: 0.6304 - accuracy: 0.6746\n",
            "Epoch 36/100\n",
            "14/14 [==============================] - 0s 7ms/step - loss: 0.6304 - accuracy: 0.6746\n",
            "Epoch 37/100\n",
            "14/14 [==============================] - 0s 3ms/step - loss: 0.6303 - accuracy: 0.6746\n",
            "Epoch 38/100\n",
            "14/14 [==============================] - 0s 4ms/step - loss: 0.6305 - accuracy: 0.6746\n",
            "Epoch 39/100\n",
            "14/14 [==============================] - 0s 6ms/step - loss: 0.6305 - accuracy: 0.6746\n",
            "Epoch 40/100\n",
            "14/14 [==============================] - 0s 2ms/step - loss: 0.6306 - accuracy: 0.6746\n",
            "Epoch 41/100\n",
            "14/14 [==============================] - 0s 2ms/step - loss: 0.6306 - accuracy: 0.6746\n",
            "Epoch 42/100\n",
            "14/14 [==============================] - 0s 2ms/step - loss: 0.6304 - accuracy: 0.6746\n",
            "Epoch 43/100\n",
            "14/14 [==============================] - 0s 2ms/step - loss: 0.6305 - accuracy: 0.6746\n",
            "Epoch 44/100\n",
            "14/14 [==============================] - 0s 2ms/step - loss: 0.6305 - accuracy: 0.6746\n",
            "Epoch 45/100\n",
            "14/14 [==============================] - 0s 2ms/step - loss: 0.6305 - accuracy: 0.6746\n",
            "Epoch 46/100\n",
            "14/14 [==============================] - 0s 2ms/step - loss: 0.6306 - accuracy: 0.6746\n",
            "Epoch 47/100\n",
            "14/14 [==============================] - 0s 2ms/step - loss: 0.6304 - accuracy: 0.6746\n",
            "Epoch 48/100\n",
            "14/14 [==============================] - 0s 2ms/step - loss: 0.6305 - accuracy: 0.6746\n",
            "Epoch 49/100\n",
            "14/14 [==============================] - 0s 2ms/step - loss: 0.6304 - accuracy: 0.6746\n",
            "Epoch 50/100\n",
            "14/14 [==============================] - 0s 2ms/step - loss: 0.6305 - accuracy: 0.6746\n",
            "Epoch 51/100\n",
            "14/14 [==============================] - 0s 3ms/step - loss: 0.6306 - accuracy: 0.6746\n",
            "Epoch 52/100\n",
            "14/14 [==============================] - 0s 2ms/step - loss: 0.6304 - accuracy: 0.6746\n",
            "Epoch 53/100\n",
            "14/14 [==============================] - 0s 2ms/step - loss: 0.6305 - accuracy: 0.6746\n",
            "Epoch 54/100\n",
            "14/14 [==============================] - 0s 2ms/step - loss: 0.6305 - accuracy: 0.6746\n",
            "Epoch 55/100\n",
            "14/14 [==============================] - 0s 2ms/step - loss: 0.6304 - accuracy: 0.6746\n",
            "Epoch 56/100\n",
            "14/14 [==============================] - 0s 3ms/step - loss: 0.6306 - accuracy: 0.6746\n",
            "Epoch 57/100\n",
            "14/14 [==============================] - 0s 2ms/step - loss: 0.6303 - accuracy: 0.6746\n",
            "Epoch 58/100\n",
            "14/14 [==============================] - 0s 2ms/step - loss: 0.6305 - accuracy: 0.6746\n",
            "Epoch 59/100\n",
            "14/14 [==============================] - 0s 2ms/step - loss: 0.6302 - accuracy: 0.6746\n",
            "Epoch 60/100\n",
            "14/14 [==============================] - 0s 2ms/step - loss: 0.6305 - accuracy: 0.6746\n",
            "Epoch 61/100\n",
            "14/14 [==============================] - 0s 2ms/step - loss: 0.6303 - accuracy: 0.6746\n",
            "Epoch 62/100\n",
            "14/14 [==============================] - 0s 2ms/step - loss: 0.6304 - accuracy: 0.6746\n",
            "Epoch 63/100\n",
            "14/14 [==============================] - 0s 2ms/step - loss: 0.6305 - accuracy: 0.6746\n",
            "Epoch 64/100\n",
            "14/14 [==============================] - 0s 2ms/step - loss: 0.6306 - accuracy: 0.6746\n",
            "Epoch 65/100\n",
            "14/14 [==============================] - 0s 2ms/step - loss: 0.6305 - accuracy: 0.6746\n",
            "Epoch 66/100\n",
            "14/14 [==============================] - 0s 2ms/step - loss: 0.6311 - accuracy: 0.6746\n",
            "Epoch 67/100\n",
            "14/14 [==============================] - 0s 2ms/step - loss: 0.6307 - accuracy: 0.6746\n",
            "Epoch 68/100\n",
            "14/14 [==============================] - 0s 2ms/step - loss: 0.6308 - accuracy: 0.6746\n",
            "Epoch 69/100\n",
            "14/14 [==============================] - 0s 2ms/step - loss: 0.6309 - accuracy: 0.6746\n",
            "Epoch 70/100\n",
            "14/14 [==============================] - 0s 2ms/step - loss: 0.6309 - accuracy: 0.6746\n",
            "Epoch 71/100\n",
            "14/14 [==============================] - 0s 2ms/step - loss: 0.6305 - accuracy: 0.6746\n",
            "Epoch 72/100\n",
            "14/14 [==============================] - 0s 2ms/step - loss: 0.6306 - accuracy: 0.6746\n",
            "Epoch 73/100\n",
            "14/14 [==============================] - 0s 2ms/step - loss: 0.6306 - accuracy: 0.6746\n",
            "Epoch 74/100\n",
            "14/14 [==============================] - 0s 2ms/step - loss: 0.6306 - accuracy: 0.6746\n",
            "Epoch 75/100\n",
            "14/14 [==============================] - 0s 2ms/step - loss: 0.6305 - accuracy: 0.6746\n",
            "Epoch 76/100\n",
            "14/14 [==============================] - 0s 2ms/step - loss: 0.6305 - accuracy: 0.6746\n",
            "Epoch 77/100\n",
            "14/14 [==============================] - 0s 2ms/step - loss: 0.6305 - accuracy: 0.6746\n",
            "Epoch 78/100\n",
            "14/14 [==============================] - 0s 3ms/step - loss: 0.6306 - accuracy: 0.6746\n",
            "Epoch 79/100\n",
            "14/14 [==============================] - 0s 2ms/step - loss: 0.6306 - accuracy: 0.6746\n",
            "Epoch 80/100\n",
            "14/14 [==============================] - 0s 2ms/step - loss: 0.6305 - accuracy: 0.6746\n",
            "Epoch 81/100\n",
            "14/14 [==============================] - 0s 2ms/step - loss: 0.6307 - accuracy: 0.6746\n",
            "Epoch 82/100\n",
            "14/14 [==============================] - 0s 2ms/step - loss: 0.6305 - accuracy: 0.6746\n",
            "Epoch 83/100\n",
            "14/14 [==============================] - 0s 2ms/step - loss: 0.6304 - accuracy: 0.6746\n",
            "Epoch 84/100\n",
            "14/14 [==============================] - 0s 2ms/step - loss: 0.6304 - accuracy: 0.6746\n",
            "Epoch 85/100\n",
            "14/14 [==============================] - 0s 2ms/step - loss: 0.6304 - accuracy: 0.6746\n",
            "Epoch 86/100\n",
            "14/14 [==============================] - 0s 2ms/step - loss: 0.6303 - accuracy: 0.6746\n",
            "Epoch 87/100\n",
            "14/14 [==============================] - 0s 2ms/step - loss: 0.6306 - accuracy: 0.6746\n",
            "Epoch 88/100\n",
            "14/14 [==============================] - 0s 2ms/step - loss: 0.6303 - accuracy: 0.6746\n",
            "Epoch 89/100\n",
            "14/14 [==============================] - 0s 2ms/step - loss: 0.6303 - accuracy: 0.6746\n",
            "Epoch 90/100\n",
            "14/14 [==============================] - 0s 2ms/step - loss: 0.6305 - accuracy: 0.6746\n",
            "Epoch 91/100\n",
            "14/14 [==============================] - 0s 2ms/step - loss: 0.6304 - accuracy: 0.6746\n",
            "Epoch 92/100\n",
            "14/14 [==============================] - 0s 2ms/step - loss: 0.6302 - accuracy: 0.6746\n",
            "Epoch 93/100\n",
            "14/14 [==============================] - 0s 2ms/step - loss: 0.6303 - accuracy: 0.6746\n",
            "Epoch 94/100\n",
            "14/14 [==============================] - 0s 2ms/step - loss: 0.6305 - accuracy: 0.6746\n",
            "Epoch 95/100\n",
            "14/14 [==============================] - 0s 2ms/step - loss: 0.6304 - accuracy: 0.6746\n",
            "Epoch 96/100\n",
            "14/14 [==============================] - 0s 2ms/step - loss: 0.6304 - accuracy: 0.6746\n",
            "Epoch 97/100\n",
            "14/14 [==============================] - 0s 2ms/step - loss: 0.6303 - accuracy: 0.6746\n",
            "Epoch 98/100\n",
            "14/14 [==============================] - 0s 2ms/step - loss: 0.6306 - accuracy: 0.6746\n",
            "Epoch 99/100\n",
            "14/14 [==============================] - 0s 2ms/step - loss: 0.6308 - accuracy: 0.6746\n",
            "Epoch 100/100\n",
            "14/14 [==============================] - 0s 2ms/step - loss: 0.6305 - accuracy: 0.6746\n"
          ]
        },
        {
          "output_type": "execute_result",
          "data": {
            "text/plain": [
              "<keras.src.callbacks.History at 0x7cbcf8671a80>"
            ]
          },
          "metadata": {},
          "execution_count": 54
        }
      ]
    },
    {
      "cell_type": "code",
      "source": [
        "loss,acc=md.evaluate(x_test,y_test,verbose=0)\n",
        "print(\"Loss\", loss, \"Accuracy:\", acc)"
      ],
      "metadata": {
        "colab": {
          "base_uri": "https://localhost:8080/"
        },
        "id": "Sb5Tl3sheWyN",
        "outputId": "1358f5c8-dfa9-4df9-a83b-b537e272755c"
      },
      "execution_count": 55,
      "outputs": [
        {
          "output_type": "stream",
          "name": "stdout",
          "text": [
            "Loss 0.6201252937316895 Accuracy: 0.6888889074325562\n"
          ]
        }
      ]
    },
    {
      "cell_type": "markdown",
      "source": [
        "###classification report"
      ],
      "metadata": {
        "id": "hi2rprHufAwI"
      }
    },
    {
      "cell_type": "code",
      "source": [
        "y_est=md.predict(x_test,verbose=0)\n",
        "\n",
        "y_est = np.argmax(y_est, axis=1)\n",
        "\n",
        "y_true = np.argmax(y_test, axis=1)"
      ],
      "metadata": {
        "id": "TP0SHcVefEOk"
      },
      "execution_count": 56,
      "outputs": []
    },
    {
      "cell_type": "code",
      "source": [
        "print(classification_report(y_true, y_est))"
      ],
      "metadata": {
        "colab": {
          "base_uri": "https://localhost:8080/"
        },
        "id": "MYPlcX5uiSSX",
        "outputId": "29a9e809-2cc0-467b-c212-361f88bca627"
      },
      "execution_count": 57,
      "outputs": [
        {
          "output_type": "stream",
          "name": "stdout",
          "text": [
            "              precision    recall  f1-score   support\n",
            "\n",
            "           0       0.69      1.00      0.82        62\n",
            "           1       0.00      0.00      0.00        28\n",
            "\n",
            "    accuracy                           0.69        90\n",
            "   macro avg       0.34      0.50      0.41        90\n",
            "weighted avg       0.47      0.69      0.56        90\n",
            "\n"
          ]
        },
        {
          "output_type": "stream",
          "name": "stderr",
          "text": [
            "/usr/local/lib/python3.10/dist-packages/sklearn/metrics/_classification.py:1344: UndefinedMetricWarning: Precision and F-score are ill-defined and being set to 0.0 in labels with no predicted samples. Use `zero_division` parameter to control this behavior.\n",
            "  _warn_prf(average, modifier, msg_start, len(result))\n",
            "/usr/local/lib/python3.10/dist-packages/sklearn/metrics/_classification.py:1344: UndefinedMetricWarning: Precision and F-score are ill-defined and being set to 0.0 in labels with no predicted samples. Use `zero_division` parameter to control this behavior.\n",
            "  _warn_prf(average, modifier, msg_start, len(result))\n",
            "/usr/local/lib/python3.10/dist-packages/sklearn/metrics/_classification.py:1344: UndefinedMetricWarning: Precision and F-score are ill-defined and being set to 0.0 in labels with no predicted samples. Use `zero_division` parameter to control this behavior.\n",
            "  _warn_prf(average, modifier, msg_start, len(result))\n"
          ]
        }
      ]
    }
  ]
}